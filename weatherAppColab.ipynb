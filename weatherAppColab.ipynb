{
  "nbformat": 4,
  "nbformat_minor": 0,
  "metadata": {
    "colab": {
      "provenance": [],
      "authorship_tag": "ABX9TyP5se1a20qKq+yrAUakLa0E",
      "include_colab_link": true
    },
    "kernelspec": {
      "name": "python3",
      "display_name": "Python 3"
    },
    "language_info": {
      "name": "python"
    }
  },
  "cells": [
    {
      "cell_type": "markdown",
      "metadata": {
        "id": "view-in-github",
        "colab_type": "text"
      },
      "source": [
        "<a href=\"https://colab.research.google.com/github/Danjari/Weather_based_training/blob/main/weatherAppColab.ipynb\" target=\"_parent\"><img src=\"https://colab.research.google.com/assets/colab-badge.svg\" alt=\"Open In Colab\"/></a>"
      ]
    },
    {
      "cell_type": "code",
      "source": [
        "import requests\n",
        "\n",
        "# OpenWeatherMap API configuration\n",
        "WEATHER_API_KEY = 'YOU_WEATHER_API_KEY'\n",
        "WEATHER_URL = 'http://api.openweathermap.org/data/2.5/weather'\n",
        "\n",
        "def get_weather(location):\n",
        "    \"\"\"\n",
        "    Fetches current weather data for a given location (city name).\n",
        "\n",
        "    Parameters:\n",
        "        location (str): The city name, optionally with country code (e.g., 'London,UK').\n",
        "\n",
        "    Returns:\n",
        "        dict or None: Weather data if successful, else None.\n",
        "    \"\"\"\n",
        "    params = {\n",
        "        'q': location,\n",
        "        'appid': WEATHER_API_KEY,\n",
        "        'units': 'metric'  # Use 'imperial' for Fahrenheit\n",
        "    }\n",
        "    try:\n",
        "        response = requests.get(WEATHER_URL, params=params)\n",
        "        response.raise_for_status()  # Raises error for bad status\n",
        "        return response.json()\n",
        "    except requests.exceptions.RequestException as e:\n",
        "        print(f\"Error fetching weather data: {e}\")\n",
        "        return None\n",
        "\n",
        "location = input(\"What's your location? \")\n",
        "weather_data = get_weather(location)\n",
        "if weather_data:\n",
        "    description = weather_data['weather'][0]['description'].title()\n",
        "    weather_conditions = weather_data['weather'][0]['main'].lower()\n",
        "\n",
        "    temp = weather_data['main']['temp']\n",
        "    print(f\"\\nCurrent weather in {location}: {description},{weather_conditions}, {temp}°C\")\n",
        "else:\n",
        "    print(\"\\nUnable to fetch weather data. Defaulting to indoor workouts.\")"
      ],
      "metadata": {
        "colab": {
          "base_uri": "https://localhost:8080/"
        },
        "id": "uqhhI0AbIDhV",
        "outputId": "d8df679d-cc25-437c-df76-1b9c83deb337"
      },
      "execution_count": null,
      "outputs": [
        {
          "output_type": "stream",
          "name": "stdout",
          "text": [
            "What's your location? New York\n",
            "\n",
            "Current weather in New York: Clear Sky,clear, 22.65°C\n"
          ]
        }
      ]
    },
    {
      "cell_type": "code",
      "source": [
        "\n",
        "\n",
        "def determine_workout_type(weather_data):\n",
        "    \"\"\"\n",
        "    Determines whether to suggest indoor or outdoor workouts based on weather data.\n",
        "\n",
        "    Parameters:\n",
        "        weather_data (dict): The weather data fetched from OpenWeatherMap.\n",
        "\n",
        "    Returns:\n",
        "        str: 'indoor' or 'outdoor'\n",
        "    \"\"\"\n",
        "    if not weather_data:\n",
        "        return 'indoor'  # Default to indoor if no data\n",
        "\n",
        "    temp = weather_data['main']['temp']\n",
        "    weather_conditions = weather_data['weather'][0]['main'].lower()\n",
        "\n",
        "    #  criteria for outdoor workouts\n",
        "    if 18 <= temp <= 25 and weather_conditions not in ['rain', 'snow', 'storm', 'drizzle']:\n",
        "        return 'outdoor'\n",
        "    else:\n",
        "        return 'indoor'\n",
        "\n",
        "\n",
        "\n",
        "\n",
        "def get_exercises(workout_type):\n",
        "    \"\"\"\n",
        "    Fetches exercises based on the workout type.\n",
        "\n",
        "    Parameters:\n",
        "        workout_type (str): 'indoor' or 'outdoor'\n",
        "\n",
        "    Returns:\n",
        "        list: List of exercise dictionaries.\n",
        "    \"\"\"\n",
        "    EXERCISE_URL = 'https://exercisedb.p.rapidapi.com/exercises'\n",
        "    EXERCISE_HEADERS = {\n",
        "        'x-rapidapi-host': 'exercisedb.p.rapidapi.com',\n",
        "        'x-rapidapi-key': 'YOUR_RAPID_API_KEY'\n",
        "    }\n",
        "\n",
        "    try:\n",
        "        response = requests.get(EXERCISE_URL, headers=EXERCISE_HEADERS)\n",
        "        response.raise_for_status()\n",
        "        exercises = response.json()\n",
        "\n",
        "        # Filter exercises based on workout type\n",
        "        if workout_type == 'outdoor':\n",
        "            # no equipments required\n",
        "            filtered = [ex for ex in exercises if ex['equipment'].lower() in ['body weight', 'none']]\n",
        "\n",
        "\n",
        "        else:\n",
        "            # equipement and no equipment ( based on the content of the API)\n",
        "            filtered = [ex for ex in exercises if ex['equipment'].lower() ]\n",
        "\n",
        "        return filtered[:10]  # Return top 10 exercises\n",
        "    except requests.exceptions.RequestException as e:\n",
        "        print(f\"Error fetching exercises: {e}\")\n",
        "        return []\n",
        "\n",
        "\n",
        "def main():\n",
        "    \"\"\"\n",
        "    Main function to run the Weather-Based Workout Planner.\n",
        "    \"\"\"\n",
        "    location = input(\"Enter your location (city name, e.g., 'London' or 'New York,US'): \")\n",
        "    weather_data = get_weather(location)\n",
        "\n",
        "    if weather_data:\n",
        "        description = weather_data['weather'][0]['description'].title()\n",
        "        temp = weather_data['main']['temp']\n",
        "        print(f\"\\nCurrent weather in {location}: {description}, {temp}°C\")\n",
        "    else:\n",
        "        print(\"\\nUnable to fetch weather data. Defaulting to indoor workouts.\")\n",
        "\n",
        "    workout_type = determine_workout_type(weather_data)\n",
        "    print(f\"Recommended workout type: {workout_type.title()}\")\n",
        "\n",
        "    exercises = get_exercises(workout_type)\n",
        "\n",
        "    if exercises:\n",
        "        print(\"\\nHere are some exercises for you:\")\n",
        "        for idx, ex in enumerate(exercises, 1):\n",
        "            #print(f\"{idx}. {ex['name'].title()} - {ex['type'].title()} ({ex['equipment'].title()})\")\n",
        "           # print(f\"{idx}.{ex} - \")\n",
        "            print(f\"{idx}.{ex['name'].title()} - Targeting your {ex['target']} - Equipment needed: {ex['equipment']} \")\n",
        "    else:\n",
        "        print(\"No exercises found.\")\n",
        "\n",
        "if __name__ == \"__main__\":\n",
        "    main()\n"
      ],
      "metadata": {
        "colab": {
          "base_uri": "https://localhost:8080/"
        },
        "id": "3-2pizphRSuB",
        "outputId": "8fa0cd35-493d-4f70-8cd9-d0bc784fa326"
      },
      "execution_count": null,
      "outputs": [
        {
          "output_type": "stream",
          "name": "stdout",
          "text": [
            "Enter your location (city name, e.g., 'London' or 'New York,US'): london\n",
            "\n",
            "Current weather in london: Overcast Clouds, 16.09°C\n",
            "Recommended workout type: Outdoor\n",
            "\n",
            "Here are some exercises for you:\n",
            "1.3/4 Sit-Up - Targeting your abs - Equipment needed: body weight \n",
            "2.45° Side Bend - Targeting your abs - Equipment needed: body weight \n",
            "3.Air Bike - Targeting your abs - Equipment needed: body weight \n",
            "4.All Fours Squad Stretch - Targeting your quads - Equipment needed: body weight \n",
            "5.Alternate Heel Touchers - Targeting your abs - Equipment needed: body weight \n",
            "6.Alternate Lateral Pulldown - Targeting your lats - Equipment needed: cable \n",
            "7.Ankle Circles - Targeting your calves - Equipment needed: body weight \n",
            "8.Archer Pull Up - Targeting your lats - Equipment needed: body weight \n",
            "9.Archer Push Up - Targeting your pectorals - Equipment needed: body weight \n",
            "10.Arm Slingers Hanging Bent Knee Legs - Targeting your abs - Equipment needed: body weight \n"
          ]
        }
      ]
    },
    {
      "cell_type": "code",
      "source": [
        "print(get_exercises(\"indoor\"))"
      ],
      "metadata": {
        "colab": {
          "base_uri": "https://localhost:8080/"
        },
        "id": "PAesXmsMUOYW",
        "outputId": "89d034ec-9d1c-4a26-b886-ec8a21f34345"
      },
      "execution_count": null,
      "outputs": [
        {
          "output_type": "stream",
          "name": "stdout",
          "text": [
            "[{'bodyPart': 'waist', 'equipment': 'body weight', 'gifUrl': 'https://v2.exercisedb.io/image/POV7GndwlgJ6ws', 'id': '0001', 'name': '3/4 sit-up', 'target': 'abs', 'secondaryMuscles': ['hip flexors', 'lower back'], 'instructions': ['Lie flat on your back with your knees bent and feet flat on the ground.', 'Place your hands behind your head with your elbows pointing outwards.', 'Engaging your abs, slowly lift your upper body off the ground, curling forward until your torso is at a 45-degree angle.', 'Pause for a moment at the top, then slowly lower your upper body back down to the starting position.', 'Repeat for the desired number of repetitions.']}, {'bodyPart': 'waist', 'equipment': 'body weight', 'gifUrl': 'https://v2.exercisedb.io/image/D-k6p91W0xjYIS', 'id': '0002', 'name': '45° side bend', 'target': 'abs', 'secondaryMuscles': ['obliques'], 'instructions': ['Stand with your feet shoulder-width apart and your arms extended straight down by your sides.', 'Keeping your back straight and your core engaged, slowly bend your torso to one side, lowering your hand towards your knee.', 'Pause for a moment at the bottom, then slowly return to the starting position.', 'Repeat on the other side.', 'Continue alternating sides for the desired number of repetitions.']}, {'bodyPart': 'waist', 'equipment': 'body weight', 'gifUrl': 'https://v2.exercisedb.io/image/jIp1qWFCko1lzf', 'id': '0003', 'name': 'air bike', 'target': 'abs', 'secondaryMuscles': ['hip flexors'], 'instructions': ['Lie flat on your back with your hands placed behind your head.', 'Lift your legs off the ground and bend your knees at a 90-degree angle.', 'Bring your right elbow towards your left knee while simultaneously straightening your right leg.', 'Return to the starting position and repeat the movement on the opposite side, bringing your left elbow towards your right knee while straightening your left leg.', 'Continue alternating sides in a pedaling motion for the desired number of repetitions.']}, {'bodyPart': 'upper legs', 'equipment': 'body weight', 'gifUrl': 'https://v2.exercisedb.io/image/2qGDwEkP81dVgx', 'id': '1512', 'name': 'all fours squad stretch', 'target': 'quads', 'secondaryMuscles': ['hamstrings', 'glutes'], 'instructions': ['Start on all fours with your hands directly under your shoulders and your knees directly under your hips.', 'Extend one leg straight back, keeping your knee bent and your foot flexed.', 'Slowly lower your hips towards the ground, feeling a stretch in your quads.', 'Hold this position for 20-30 seconds.', 'Switch legs and repeat the stretch on the other side.']}, {'bodyPart': 'waist', 'equipment': 'body weight', 'gifUrl': 'https://v2.exercisedb.io/image/vWbOhiedOrgwzI', 'id': '0006', 'name': 'alternate heel touchers', 'target': 'abs', 'secondaryMuscles': ['obliques'], 'instructions': ['Lie flat on your back with your knees bent and feet flat on the ground.', 'Extend your arms straight out to the sides, parallel to the ground.', 'Engaging your abs, lift your shoulders off the ground and reach your right hand towards your right heel.', 'Return to the starting position and repeat on the left side, reaching your left hand towards your left heel.', 'Continue alternating sides for the desired number of repetitions.']}, {'bodyPart': 'back', 'equipment': 'cable', 'gifUrl': 'https://v2.exercisedb.io/image/ZozpJ3CEb4lRgS', 'id': '0007', 'name': 'alternate lateral pulldown', 'target': 'lats', 'secondaryMuscles': ['biceps', 'rhomboids'], 'instructions': ['Sit on the cable machine with your back straight and feet flat on the ground.', 'Grasp the handles with an overhand grip, slightly wider than shoulder-width apart.', 'Lean back slightly and pull the handles towards your chest, squeezing your shoulder blades together.', 'Pause for a moment at the peak of the movement, then slowly release the handles back to the starting position.', 'Repeat for the desired number of repetitions.']}, {'bodyPart': 'lower legs', 'equipment': 'body weight', 'gifUrl': 'https://v2.exercisedb.io/image/n2PGAVaG8PyWhB', 'id': '1368', 'name': 'ankle circles', 'target': 'calves', 'secondaryMuscles': ['ankle stabilizers'], 'instructions': ['Sit on the ground with your legs extended in front of you.', 'Lift one leg off the ground and rotate your ankle in a circular motion.', 'Perform the desired number of circles in one direction, then switch to the other direction.', 'Repeat with the other leg.']}, {'bodyPart': 'back', 'equipment': 'body weight', 'gifUrl': 'https://v2.exercisedb.io/image/Njqe9WihvbGdpm', 'id': '3293', 'name': 'archer pull up', 'target': 'lats', 'secondaryMuscles': ['biceps', 'forearms'], 'instructions': ['Start by hanging from a pull-up bar with an overhand grip, slightly wider than shoulder-width apart.', 'Engage your core and pull your shoulder blades down and back.', 'As you pull yourself up, bend one arm and bring your elbow towards your side, while keeping the other arm straight.', 'Continue pulling until your chin is above the bar and your bent arm is fully flexed.', 'Lower yourself back down with control, straightening the bent arm and repeating the movement on the other side.', 'Alternate sides with each repetition.']}, {'bodyPart': 'chest', 'equipment': 'body weight', 'gifUrl': 'https://v2.exercisedb.io/image/86vQJtMBKZb3X1', 'id': '3294', 'name': 'archer push up', 'target': 'pectorals', 'secondaryMuscles': ['triceps', 'shoulders', 'core'], 'instructions': ['Start in a push-up position with your hands slightly wider than shoulder-width apart.', 'Extend one arm straight out to the side, parallel to the ground.', 'Lower your body by bending your elbows, keeping your back straight and core engaged.', 'Push back up to the starting position.', 'Repeat on the other side, extending the opposite arm out to the side.', 'Continue alternating sides for the desired number of repetitions.']}, {'bodyPart': 'waist', 'equipment': 'body weight', 'gifUrl': 'https://v2.exercisedb.io/image/9IXelga4O4y8o0', 'id': '2355', 'name': 'arm slingers hanging bent knee legs', 'target': 'abs', 'secondaryMuscles': ['shoulders', 'back'], 'instructions': ['Hang from a pull-up bar with your arms fully extended and your knees bent at a 90-degree angle.', 'Engage your core and lift your knees towards your chest, bringing them as close to your elbows as possible.', 'Slowly lower your legs back down to the starting position.', 'Repeat for the desired number of repetitions.']}]\n"
          ]
        }
      ]
    },
    {
      "cell_type": "code",
      "source": [
        "# streamlit version of the app\n",
        "%%writefile app.py\n",
        "# app.py\n",
        "\n",
        "import streamlit as st\n",
        "import requests\n",
        "st.set_page_config(page_title=\"Weather-Based Workout Planner\", page_icon=\"💪\", layout=\"centered\")\n",
        "\n",
        "headers ={\n",
        "    \"authorization\": st.secrets[\"WEATHER_API_KEY_VAL\"]\n",
        "}\n",
        "# OpenWeatherMap API configuration\n",
        "WEATHER_API_KEY = st.secrets[\"WEATHER_API_KEY\"]  #find a way to hide? DONE\n",
        "WEATHER_URL = 'http://api.openweathermap.org/data/2.5/weather'\n",
        "\n",
        "\n",
        "# ExerciseDB API configuration\n",
        "EXERCISE_URL = 'https://exercisedb.p.rapidapi.com/exercises'\n",
        "EXERCISE_HEADERS = {\n",
        "    'x-rapidapi-host': 'exercisedb.p.rapidapi.com',\n",
        "    'x-rapidapi-key': st.secrets[\"RAPID_API_KEY\"]  # hide DONE\n",
        "}\n",
        "\n",
        "\n",
        "\n",
        "def get_weather(location):\n",
        "    \"\"\"\n",
        "    Fetches current weather data for a given location (city name).\n",
        "\n",
        "    Parameters:\n",
        "        location (str): The city name, optionally with country code (e.g., 'London,UK').\n",
        "\n",
        "    Returns:\n",
        "        dict or None: Weather data if successful, else None.\n",
        "    \"\"\"\n",
        "    params = {\n",
        "        'q': location,\n",
        "        'appid': WEATHER_API_KEY,\n",
        "        'units': 'metric'  # Use 'imperial' for Fahrenheit\n",
        "    }\n",
        "    try:\n",
        "        response = requests.get(WEATHER_URL, params=params)\n",
        "        response.raise_for_status()  # Raises error for bad status\n",
        "        return response.json()\n",
        "    except requests.exceptions.RequestException as e:\n",
        "        st.error(f\"Error fetching weather data: {e}\")\n",
        "        return None\n",
        "\n",
        "def determine_workout_type(weather_data):\n",
        "    \"\"\"\n",
        "    Determines whether to suggest indoor or outdoor workouts based on weather data.\n",
        "\n",
        "    Parameters:\n",
        "        weather_data (dict): The weather data fetched from OpenWeatherMap.\n",
        "\n",
        "    Returns:\n",
        "        str: 'indoor' or 'outdoor'\n",
        "    \"\"\"\n",
        "    if not weather_data:\n",
        "        return 'indoor'  # Default to indoor if no data\n",
        "\n",
        "    temp = weather_data['main']['temp']\n",
        "    weather_conditions = weather_data['weather'][0]['main'].lower()\n",
        "\n",
        "    # Define your criteria for outdoor workouts\n",
        "    if 15 <= temp <= 25 and weather_conditions not in ['rain', 'snow', 'storm', 'drizzle']:\n",
        "        return 'outdoor'\n",
        "    else:\n",
        "        return 'indoor'\n",
        "\n",
        "def get_exercises(workout_type):\n",
        "    \"\"\"\n",
        "    Fetches exercises based on the workout type.\n",
        "\n",
        "    Parameters:\n",
        "        workout_type (str): 'indoor' or 'outdoor'\n",
        "\n",
        "    Returns:\n",
        "        list: List of exercise dictionaries.\n",
        "    \"\"\"\n",
        "    try:\n",
        "        response = requests.get(EXERCISE_URL, headers=EXERCISE_HEADERS)\n",
        "        response.raise_for_status()\n",
        "        exercises = response.json()\n",
        "\n",
        "        # Filter exercises based on workout type\n",
        "        if workout_type == 'outdoor':\n",
        "            # Example: Choose exercises that don't require equipment\n",
        "            filtered = [ex for ex in exercises if ex['equipment'].lower() in ['body weight', 'none']]\n",
        "        else:\n",
        "            # Example: Choose exercises that might require equipment\n",
        "            filtered = [ex for ex in exercises if ex['equipment'].lower() not in ['body weight', 'none']]\n",
        "\n",
        "        return filtered[:10]  # Return top 10 exercises\n",
        "    except requests.exceptions.RequestException as e:\n",
        "        st.error(f\"Error fetching exercises: {e}\")\n",
        "        return []\n",
        "\n",
        "def main():\n",
        "\n",
        "\n",
        "    st.title(\"💪 Weather-Based Workout Planner\")\n",
        "    st.write(\"Plan your workouts based on the current weather conditions!\")\n",
        "\n",
        "    # Sidebar\n",
        "    st.sidebar.header(\"About\")\n",
        "    st.sidebar.info(\n",
        "        \"\"\"\n",
        "        **Weather-Based Workout Planner** suggests workout routines tailored to the current weather of your location.\n",
        "        - **Indoor Workouts**: Yoga, Strength Training\n",
        "        - **Outdoor Workouts**: Running, Cycling,Body Training\n",
        "        \"\"\"\n",
        "    )\n",
        "\n",
        "    # User Input\n",
        "    location = st.text_input(\"Enter your location (city name, e.g., 'London' or 'New York,US'):\")\n",
        "\n",
        "    if st.button(\"Get Workout Recommendations\"):\n",
        "        if location:\n",
        "            with st.spinner('Fetching weather data...'):\n",
        "                weather_data = get_weather(location)\n",
        "\n",
        "            if weather_data:\n",
        "                description = weather_data['weather'][0]['description'].title()\n",
        "                temp = weather_data['main']['temp']\n",
        "                st.success(f\"**Current weather in {location}:** {description}, {temp}°C\")\n",
        "            else:\n",
        "                st.warning(\"Unable to fetch weather data. Defaulting to indoor workouts.\")\n",
        "\n",
        "            workout_type = determine_workout_type(weather_data)\n",
        "            st.info(f\"**Recommended workout type:** {workout_type.title()}\")\n",
        "\n",
        "            with st.spinner('Fetching exercises...'):\n",
        "                exercises = get_exercises(workout_type)\n",
        "\n",
        "            if exercises:\n",
        "                st.subheader(\"Here are some exercises for you:\")\n",
        "                for idx, ex in enumerate(exercises, 1):\n",
        "                    with st.expander(f\"Exercise {idx}: {ex['name'].title()}\"):\n",
        "                        st.markdown(f\"**Target Muscle Group:** {ex['target'].title()}\")\n",
        "                        st.markdown(f\"**Equipment Needed:** {ex['equipment'].title()}\")\n",
        "                        st.image(ex['gifUrl'], caption=f\"Exercise{idx}: {ex['name'].title()}\", use_column_width=True)\n",
        "                        st.markdown(\"**Instructions:**\")\n",
        "                        for instruction in ex['instructions']:\n",
        "                            st.markdown(f\"- {instruction}\")\n",
        "            else:\n",
        "                st.warning(\"No exercises found.\")\n",
        "        else:\n",
        "            st.error(\"Please enter a valid city name.\")\n",
        "\n",
        "if __name__ == \"__main__\":\n",
        "    main()"
      ],
      "metadata": {
        "colab": {
          "base_uri": "https://localhost:8080/"
        },
        "id": "s1xJb9It39p9",
        "outputId": "39935c10-8a1b-4969-de5a-7fac1c5c0cbc"
      },
      "execution_count": 69,
      "outputs": [
        {
          "output_type": "stream",
          "name": "stdout",
          "text": [
            "Overwriting app.py\n"
          ]
        }
      ]
    },
    {
      "cell_type": "code",
      "source": [
        "!curl ipecho.net/plain"
      ],
      "metadata": {
        "colab": {
          "base_uri": "https://localhost:8080/"
        },
        "id": "ojKITNjc4WF9",
        "outputId": "12e65a18-5e8d-457c-ecd5-01ded00d28fe"
      },
      "execution_count": null,
      "outputs": [
        {
          "output_type": "stream",
          "name": "stdout",
          "text": [
            "34.150.154.127"
          ]
        }
      ]
    },
    {
      "cell_type": "code",
      "source": [
        "!streamlit run app.py & npx localtunnel --port 8501"
      ],
      "metadata": {
        "colab": {
          "base_uri": "https://localhost:8080/"
        },
        "id": "Fxtcp5hR4b5l",
        "outputId": "af58b454-ce02-4489-c1d2-e1fb31bd12c2"
      },
      "execution_count": 66,
      "outputs": [
        {
          "output_type": "stream",
          "name": "stdout",
          "text": [
            "\n",
            "Collecting usage statistics. To deactivate, set browser.gatherUsageStats to false.\n",
            "\u001b[0m\n",
            "\u001b[0m\n",
            "\u001b[34m\u001b[1m  You can now view your Streamlit app in your browser.\u001b[0m\n",
            "\u001b[0m\n",
            "\u001b[34m  Local URL: \u001b[0m\u001b[1mhttp://localhost:8501\u001b[0m\n",
            "\u001b[34m  Network URL: \u001b[0m\u001b[1mhttp://172.28.0.12:8501\u001b[0m\n",
            "\u001b[34m  External URL: \u001b[0m\u001b[1mhttp://34.150.154.127:8501\u001b[0m\n",
            "\u001b[0m\n",
            "your url is: https://afraid-rabbits-marry.loca.lt\n",
            "\u001b[34m  Stopping...\u001b[0m\n",
            "^C\n"
          ]
        }
      ]
    },
    {
      "cell_type": "code",
      "source": [
        "# prompt: install streamlit\n",
        "\n",
        "!pip install streamlit --quiet\n",
        "!pip install pyngrok --quiet\n",
        "!pip install htbuilder --quiet\n",
        "\n"
      ],
      "metadata": {
        "colab": {
          "base_uri": "https://localhost:8080/"
        },
        "id": "dlebpx7Q4BDb",
        "outputId": "6a8e3aff-533c-42ef-bca7-0e8f5ebc3e96"
      },
      "execution_count": 62,
      "outputs": [
        {
          "output_type": "stream",
          "name": "stdout",
          "text": [
            "Traceback (most recent call last):\n",
            "  File \"/usr/local/lib/python3.10/dist-packages/pip/_vendor/pkg_resources/__init__.py\", line 3070, in _dep_map\n",
            "    return self.__dep_map\n",
            "  File \"/usr/local/lib/python3.10/dist-packages/pip/_vendor/pkg_resources/__init__.py\", line 2863, in __getattr__\n",
            "    raise AttributeError(attr)\n",
            "AttributeError: _DistInfoDistribution__dep_map\n",
            "\n",
            "During handling of the above exception, another exception occurred:\n",
            "\n",
            "Traceback (most recent call last):\n",
            "  File \"/usr/local/lib/python3.10/dist-packages/pip/_internal/cli/base_command.py\", line 179, in exc_logging_wrapper\n",
            "    status = run_func(*args)\n",
            "  File \"/usr/local/lib/python3.10/dist-packages/pip/_internal/cli/req_command.py\", line 67, in wrapper\n",
            "    return func(self, options, args)\n",
            "  File \"/usr/local/lib/python3.10/dist-packages/pip/_internal/commands/install.py\", line 447, in run\n",
            "    conflicts = self._determine_conflicts(to_install)\n",
            "  File \"/usr/local/lib/python3.10/dist-packages/pip/_internal/commands/install.py\", line 578, in _determine_conflicts\n",
            "    return check_install_conflicts(to_install)\n",
            "  File \"/usr/local/lib/python3.10/dist-packages/pip/_internal/operations/check.py\", line 101, in check_install_conflicts\n",
            "    package_set, _ = create_package_set_from_installed()\n",
            "  File \"/usr/local/lib/python3.10/dist-packages/pip/_internal/operations/check.py\", line 42, in create_package_set_from_installed\n",
            "    dependencies = list(dist.iter_dependencies())\n",
            "  File \"/usr/local/lib/python3.10/dist-packages/pip/_internal/metadata/pkg_resources.py\", line 247, in iter_dependencies\n",
            "    return self._dist.requires(extras)\n",
            "  File \"/usr/local/lib/python3.10/dist-packages/pip/_vendor/pkg_resources/__init__.py\", line 2786, in requires\n",
            "    dm = self._dep_map\n",
            "  File \"/usr/local/lib/python3.10/dist-packages/pip/_vendor/pkg_resources/__init__.py\", line 3072, in _dep_map\n",
            "    self.__dep_map = self._compute_dependencies()\n",
            "  File \"/usr/local/lib/python3.10/dist-packages/pip/_vendor/pkg_resources/__init__.py\", line 3094, in _compute_dependencies\n",
            "    dm[s_extra] = [r for r in reqs_for_extra(extra) if r not in common]\n",
            "  File \"/usr/local/lib/python3.10/dist-packages/pip/_vendor/pkg_resources/__init__.py\", line 3094, in <listcomp>\n",
            "    dm[s_extra] = [r for r in reqs_for_extra(extra) if r not in common]\n",
            "  File \"/usr/local/lib/python3.10/dist-packages/pip/_vendor/pkg_resources/__init__.py\", line 3086, in reqs_for_extra\n",
            "    if not req.marker or req.marker.evaluate({'extra': extra}):\n",
            "  File \"/usr/local/lib/python3.10/dist-packages/pip/_vendor/packaging/markers.py\", line 310, in evaluate\n",
            "    current_environment = cast(\"dict[str, str]\", default_environment())\n",
            "  File \"/usr/local/lib/python3.10/dist-packages/pip/_vendor/packaging/markers.py\", line 254, in default_environment\n",
            "    \"platform_python_implementation\": platform.python_implementation(),\n",
            "  File \"/usr/lib/python3.10/platform.py\", line 1106, in python_implementation\n",
            "    return _sys_version()[0]\n",
            "  File \"/usr/lib/python3.10/platform.py\", line 1016, in _sys_version\n",
            "    result = _sys_version_cache.get(sys_version, None)\n",
            "KeyboardInterrupt\n",
            "\n",
            "During handling of the above exception, another exception occurred:\n",
            "\n",
            "Traceback (most recent call last):\n",
            "  File \"/usr/local/bin/pip3\", line 8, in <module>\n",
            "    sys.exit(main())\n",
            "  File \"/usr/local/lib/python3.10/dist-packages/pip/_internal/cli/main.py\", line 80, in main\n",
            "    return command.main(cmd_args)\n",
            "  File \"/usr/local/lib/python3.10/dist-packages/pip/_internal/cli/base_command.py\", line 100, in main\n",
            "    return self._main(args)\n",
            "  File \"/usr/local/lib/python3.10/dist-packages/pip/_internal/cli/base_command.py\", line 232, in _main\n",
            "    return run(options, args)\n",
            "  File \"/usr/local/lib/python3.10/dist-packages/pip/_internal/cli/base_command.py\", line 215, in exc_logging_wrapper\n",
            "    logger.critical(\"Operation cancelled by user\")\n",
            "  File \"/usr/lib/python3.10/logging/__init__.py\", line 1524, in critical\n",
            "    self._log(CRITICAL, msg, args, **kwargs)\n",
            "  File \"/usr/lib/python3.10/logging/__init__.py\", line 1622, in _log\n",
            "    record = self.makeRecord(self.name, level, fn, lno, msg, args,\n",
            "  File \"/usr/lib/python3.10/logging/__init__.py\", line 1591, in makeRecord\n",
            "    rv = _logRecordFactory(name, level, fn, lno, msg, args, exc_info, func,\n",
            "  File \"/usr/lib/python3.10/logging/__init__.py\", line 318, in __init__\n",
            "    self.module = os.path.splitext(self.filename)[0]\n",
            "  File \"/usr/lib/python3.10/posixpath.py\", line 125, in splitext\n",
            "    return genericpath._splitext(p, sep, None, extsep)\n",
            "KeyboardInterrupt\n",
            "^C\n"
          ]
        }
      ]
    },
    {
      "cell_type": "code",
      "source": [
        "!npm install -g localtunnel"
      ],
      "metadata": {
        "colab": {
          "base_uri": "https://localhost:8080/"
        },
        "id": "MmnHdcpx7Aua",
        "outputId": "fe65beec-9dfa-42ab-b0d2-87eab0f9aa0f"
      },
      "execution_count": 55,
      "outputs": [
        {
          "output_type": "stream",
          "name": "stdout",
          "text": [
            "\u001b[K\u001b[?25h\n",
            "added 22 packages, and audited 23 packages in 2s\n",
            "\n",
            "3 packages are looking for funding\n",
            "  run `npm fund` for details\n",
            "\n",
            "1 \u001b[33m\u001b[1mmoderate\u001b[22m\u001b[39m severity vulnerability\n",
            "\n",
            "To address all issues (including breaking changes), run:\n",
            "  npm audit fix --force\n",
            "\n",
            "Run `npm audit` for details.\n"
          ]
        }
      ]
    },
    {
      "cell_type": "code",
      "source": [
        "pip freeze > requirements.txt\n"
      ],
      "metadata": {
        "id": "G5rn3uBYFtVb"
      },
      "execution_count": 68,
      "outputs": []
    }
  ]
}